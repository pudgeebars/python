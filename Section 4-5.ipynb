{
 "cells": [
  {
   "cell_type": "code",
   "execution_count": 3,
   "metadata": {},
   "outputs": [
    {
     "name": "stdout",
     "output_type": "stream",
     "text": [
      "Hello tom \n",
      "\n",
      "Hello jerry \n",
      "\n",
      "Hello sam \n",
      "\n"
     ]
    }
   ],
   "source": [
    "new_list = ['tom','jerry','sam']\n",
    "for names in new_list:\n",
    "    print(f'Hello {names} \\n')"
   ]
  },
  {
   "cell_type": "code",
   "execution_count": 2,
   "metadata": {},
   "outputs": [
    {
     "name": "stdout",
     "output_type": "stream",
     "text": [
      "[2, 4, 6, 8, 10]\n"
     ]
    }
   ],
   "source": [
    "numbers = [1,2,3,4,5]\n",
    "numbers_two_times = []\n",
    "for number in numbers:\n",
    "    numbers_two_times.append(number*2)\n",
    "    \n",
    "print(numbers_two_times)    \n",
    "    "
   ]
  },
  {
   "cell_type": "code",
   "execution_count": 13,
   "metadata": {},
   "outputs": [
    {
     "name": "stdout",
     "output_type": "stream",
     "text": [
      "key1\n",
      "key2\n",
      "key3\n"
     ]
    }
   ],
   "source": [
    "d = {'key1':1, 'key2':2, 'key3':3}\n",
    "\n",
    "for a in d.keys():\n",
    "    print(a)"
   ]
  },
  {
   "cell_type": "code",
   "execution_count": 17,
   "metadata": {},
   "outputs": [],
   "source": [
    "for num in range(0,10,-1):\n",
    "    print(num)"
   ]
  },
  {
   "cell_type": "code",
   "execution_count": 24,
   "metadata": {},
   "outputs": [],
   "source": [
    "num = list(range(0,10))"
   ]
  },
  {
   "cell_type": "code",
   "execution_count": 25,
   "metadata": {},
   "outputs": [
    {
     "ename": "SyntaxError",
     "evalue": "Missing parentheses in call to 'print'. Did you mean print(num)? (<ipython-input-25-f59b73ad6832>, line 1)",
     "output_type": "error",
     "traceback": [
      "\u001b[1;36m  File \u001b[1;32m\"<ipython-input-25-f59b73ad6832>\"\u001b[1;36m, line \u001b[1;32m1\u001b[0m\n\u001b[1;33m    print num\u001b[0m\n\u001b[1;37m          ^\u001b[0m\n\u001b[1;31mSyntaxError\u001b[0m\u001b[1;31m:\u001b[0m Missing parentheses in call to 'print'. Did you mean print(num)?\n"
     ]
    }
   ],
   "source": [
    "print n"
   ]
  },
  {
   "cell_type": "code",
   "execution_count": 26,
   "metadata": {},
   "outputs": [
    {
     "name": "stdout",
     "output_type": "stream",
     "text": [
      "[0, 1, 2, 3, 4, 5, 6, 7, 8, 9]\n"
     ]
    }
   ],
   "source": [
    "print(num)"
   ]
  },
  {
   "cell_type": "code",
   "execution_count": 32,
   "metadata": {},
   "outputs": [
    {
     "name": "stdout",
     "output_type": "stream",
     "text": [
      "0. ferrari\n",
      "1. tesla\n",
      "2. porsche\n"
     ]
    }
   ],
   "source": [
    "cars = ['ferrari','tesla','porsche']\n",
    "for num,car in enumerate(cars):\n",
    "    print(f'{num}. {car}')"
   ]
  },
  {
   "cell_type": "code",
   "execution_count": 33,
   "metadata": {},
   "outputs": [],
   "source": [
    "from random import randint"
   ]
  },
  {
   "cell_type": "code",
   "execution_count": 38,
   "metadata": {},
   "outputs": [
    {
     "name": "stdout",
     "output_type": "stream",
     "text": [
      "What is your favorite number? \n",
      "helo\n"
     ]
    }
   ],
   "source": [
    "fav_number =(input('What is your favorite number? \\n'))\n",
    "if 'int' != type(fav_number) m"
   ]
  },
  {
   "cell_type": "code",
   "execution_count": 8,
   "metadata": {},
   "outputs": [],
   "source": [
    "import yfinance\n",
    "import pprint"
   ]
  },
  {
   "cell_type": "code",
   "execution_count": 10,
   "metadata": {},
   "outputs": [],
   "source": [
    "stock = yfinance.Ticker('AAPL')"
   ]
  },
  {
   "cell_type": "code",
   "execution_count": 12,
   "metadata": {},
   "outputs": [
    {
     "name": "stdout",
     "output_type": "stream",
     "text": [
      "{'zip': '95014', 'sector': 'Technology', 'fullTimeEmployees': 147000, 'longBusinessSummary': 'Apple Inc. designs, manufactures, and markets smartphones, personal computers, tablets, wearables, and accessories worldwide. It also sells various related services. The company offers iPhone, a line of smartphones; Mac, a line of personal computers; iPad, a line of multi-purpose tablets; and wearables, home, and accessories comprising AirPods, Apple TV, Apple Watch, Beats products, HomePod, iPod touch, and other Apple-branded and third-party accessories. It also provides AppleCare support services; cloud services store services; and operates various platforms, including the App Store, that allow customers to discover and download applications and digital content, such as books, music, video, games, and podcasts. In addition, the company offers various services, such as Apple Arcade, a game subscription service; Apple Music, which offers users a curated listening experience with on-demand radio stations; Apple News+, a subscription news and magazine service; Apple TV+, which offers exclusive original content; Apple Card, a co-branded credit card; and Apple Pay, a cashless payment service, as well as licenses its intellectual property. The company serves consumers, and small and mid-sized businesses; and the education, enterprise, and government markets. It sells and delivers third-party applications for its products through the App Store. The company also sells its products through its retail and online stores, and direct sales force; and third-party cellular network carriers, wholesalers, retailers, and resellers. Apple Inc. was founded in 1977 and is headquartered in Cupertino, California.', 'city': 'Cupertino', 'phone': '408-996-1010', 'state': 'CA', 'country': 'United States', 'companyOfficers': [], 'website': 'http://www.apple.com', 'maxAge': 1, 'address1': 'One Apple Park Way', 'industry': 'Consumer Electronics', 'previousClose': 131.24, 'regularMarketOpen': 132.44, 'twoHundredDayAverage': 124.29956, 'trailingAnnualDividendYield': 0.0061490396, 'payoutRatio': 0.2177, 'volume24Hr': None, 'regularMarketDayHigh': 134.66, 'navPrice': None, 'averageDailyVolume10Day': 90023242, 'totalAssets': None, 'regularMarketPreviousClose': 131.24, 'fiftyDayAverage': 123.67257, 'trailingAnnualDividendRate': 0.807, 'open': 132.44, 'toCurrency': None, 'averageVolume10days': 90023242, 'expireDate': None, 'yield': None, 'algorithm': None, 'dividendRate': 0.82, 'exDividendDate': 1612483200, 'beta': 1.219525, 'circulatingSupply': None, 'startDate': None, 'regularMarketDayLow': 131.94, 'priceHint': 2, 'currency': 'USD', 'trailingPE': 36.460533, 'regularMarketVolume': 87964051, 'lastMarket': None, 'maxSupply': None, 'openInterest': None, 'marketCap': 2256824172544, 'volumeAllCurrencies': None, 'strikePrice': None, 'averageVolume': 107083373, 'priceToSalesTrailing12Months': 7.6727495, 'dayLow': 131.94, 'ask': 0, 'ytdReturn': None, 'askSize': 1800, 'volume': 87964051, 'fiftyTwoWeekHigh': 145.09, 'forwardPE': 28.602127, 'fromCurrency': None, 'fiveYearAvgDividendYield': 1.39, 'fiftyTwoWeekLow': 66.3575, 'bid': 134.95, 'tradeable': False, 'dividendYield': 0.0061000003, 'bidSize': 2200, 'dayHigh': 134.66, 'exchange': 'NMS', 'shortName': 'Apple Inc.', 'longName': 'Apple Inc.', 'exchangeTimezoneName': 'America/New_York', 'exchangeTimezoneShortName': 'EDT', 'isEsgPopulated': False, 'gmtOffSetMilliseconds': '-14400000', 'quoteType': 'EQUITY', 'symbol': 'AAPL', 'messageBoardId': 'finmb_24937', 'market': 'us_market', 'annualHoldingsTurnover': None, 'enterpriseToRevenue': 7.792, 'beta3Year': None, 'profitMargins': 0.21735, 'enterpriseToEbitda': 26.915, '52WeekChange': 0.89051783, 'morningStarRiskRating': None, 'forwardEps': 4.7, 'revenueQuarterlyGrowth': None, 'sharesOutstanding': 16788100096, 'fundInceptionDate': None, 'annualReportExpenseRatio': None, 'bookValue': 3.936, 'sharesShort': 101484668, 'sharesPercentSharesOut': 0.006, 'fundFamily': None, 'lastFiscalYearEnd': 1601078400, 'heldPercentInstitutions': 0.59791, 'netIncomeToCommon': 63929999360, 'trailingEps': 3.687, 'lastDividendValue': 0.205, 'SandP52WeekChange': 0.48798215, 'priceToBook': 34.15396, 'heldPercentInsiders': 0.00075999997, 'nextFiscalYearEnd': 1664150400, 'mostRecentQuarter': 1608940800, 'shortRatio': 0.88, 'sharesShortPreviousMonthDate': 1614297600, 'floatShares': 16770636380, 'enterpriseValue': 2292040859648, 'threeYearAverageReturn': None, 'lastSplitDate': 1598832000, 'lastSplitFactor': '4:1', 'legalType': None, 'lastDividendDate': 1612483200, 'morningStarOverallRating': None, 'earningsQuarterlyGrowth': 0.293, 'dateShortInterest': 1617148800, 'pegRatio': 1.84, 'lastCapGain': None, 'shortPercentOfFloat': 0.006, 'sharesShortPriorMonth': 100799312, 'impliedSharesOutstanding': None, 'category': None, 'fiveYearAverageReturn': None, 'regularMarketPrice': 134.43, 'logo_url': 'https://logo.clearbit.com/apple.com'}\n"
     ]
    }
   ],
   "source": [
    "print(stock.info)"
   ]
  },
  {
   "cell_type": "code",
   "execution_count": null,
   "metadata": {},
   "outputs": [],
   "source": []
  }
 ],
 "metadata": {
  "kernelspec": {
   "display_name": "Python 3",
   "language": "python",
   "name": "python3"
  },
  "language_info": {
   "codemirror_mode": {
    "name": "ipython",
    "version": 3
   },
   "file_extension": ".py",
   "mimetype": "text/x-python",
   "name": "python",
   "nbconvert_exporter": "python",
   "pygments_lexer": "ipython3",
   "version": "3.8.5"
  }
 },
 "nbformat": 4,
 "nbformat_minor": 4
}
