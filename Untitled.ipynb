{
 "cells": [
  {
   "cell_type": "code",
   "execution_count": 1,
   "metadata": {},
   "outputs": [
    {
     "name": "stdout",
     "output_type": "stream",
     "text": [
      "\n",
      "adding new text line\n"
     ]
    }
   ],
   "source": [
    "with open('git.txt', mode='a') as myFile:\n",
    "    print('\\nadding new text line')\n"
   ]
  },
  {
   "cell_type": "code",
   "execution_count": 2,
   "metadata": {},
   "outputs": [
    {
     "data": {
      "text/plain": [
       "'generating new ssh key for windows\\nssh-keygen -t rsa -C username@email\\n\\nadd -u when pushing first time to remote repository\\ngit push -u origin main\\n\\nbest practice before pushing on to remote repository\\ngit pull origin main'"
      ]
     },
     "execution_count": 2,
     "metadata": {},
     "output_type": "execute_result"
    }
   ],
   "source": [
    "with open('git.txt', mode='r') as myFile:\n",
    "    contents=myFile.read()\n",
    "    \n",
    "contents"
   ]
  },
  {
   "cell_type": "code",
   "execution_count": 3,
   "metadata": {},
   "outputs": [
    {
     "name": "stdout",
     "output_type": "stream",
     "text": [
      "\f",
      "\n"
     ]
    }
   ],
   "source": [
    "clear\n"
   ]
  },
  {
   "cell_type": "code",
   "execution_count": 5,
   "metadata": {},
   "outputs": [
    {
     "ename": "UnsupportedOperation",
     "evalue": "not readable",
     "output_type": "error",
     "traceback": [
      "\u001b[1;31m---------------------------------------------------------------------------\u001b[0m",
      "\u001b[1;31mUnsupportedOperation\u001b[0m                      Traceback (most recent call last)",
      "\u001b[1;32m<ipython-input-5-32a48a4eb513>\u001b[0m in \u001b[0;36m<module>\u001b[1;34m\u001b[0m\n\u001b[0;32m      1\u001b[0m \u001b[1;32mwith\u001b[0m \u001b[0mopen\u001b[0m\u001b[1;33m(\u001b[0m\u001b[1;34m'git.txt'\u001b[0m\u001b[1;33m,\u001b[0m\u001b[0mmode\u001b[0m\u001b[1;33m=\u001b[0m\u001b[1;34m'a'\u001b[0m\u001b[1;33m)\u001b[0m \u001b[1;32mas\u001b[0m \u001b[0mfile\u001b[0m\u001b[1;33m:\u001b[0m\u001b[1;33m\u001b[0m\u001b[1;33m\u001b[0m\u001b[0m\n\u001b[0;32m      2\u001b[0m     \u001b[0mfile\u001b[0m\u001b[1;33m.\u001b[0m\u001b[0mwrite\u001b[0m\u001b[1;33m(\u001b[0m\u001b[1;34m'\\nadding new line'\u001b[0m\u001b[1;33m)\u001b[0m\u001b[1;33m\u001b[0m\u001b[1;33m\u001b[0m\u001b[0m\n\u001b[1;32m----> 3\u001b[1;33m     \u001b[0mprint\u001b[0m\u001b[1;33m(\u001b[0m\u001b[0mfile\u001b[0m\u001b[1;33m.\u001b[0m\u001b[0mread\u001b[0m\u001b[1;33m(\u001b[0m\u001b[1;33m)\u001b[0m\u001b[1;33m)\u001b[0m\u001b[1;33m\u001b[0m\u001b[1;33m\u001b[0m\u001b[0m\n\u001b[0m",
      "\u001b[1;31mUnsupportedOperation\u001b[0m: not readable"
     ]
    }
   ],
   "source": [
    "with open('git.txt',mode='a') as file:\n",
    "    file.write('\\nadding new line')\n",
    "    print(file.read())"
   ]
  },
  {
   "cell_type": "code",
   "execution_count": 10,
   "metadata": {},
   "outputs": [
    {
     "data": {
      "text/plain": [
       "'generating new ssh key for windows\\nssh-keygen -t rsa -C username@email\\n\\nadd -u when pushing first time to remote repository\\ngit push -u origin main\\n\\nbest practice before pushing on to remote repository\\ngit pull origin main\\nadding new line\\nadding new line\\nadding new line\\nadding new line'"
      ]
     },
     "execution_count": 10,
     "metadata": {},
     "output_type": "execute_result"
    }
   ],
   "source": [
    "with open('git.txt',mode='r') as file:\n",
    "   contents = file.read()\n",
    "\n",
    "contents"
   ]
  },
  {
   "cell_type": "code",
   "execution_count": 11,
   "metadata": {},
   "outputs": [],
   "source": [
    "with open('git.txt', mode='w') as file:\n",
    "    file.write('generating new ssh key for windows\\nssh-keygen -t rsa -C username@email\\n\\nadd -u when pushing first time to remote repository\\ngit push -u origin main\\n\\nbest practice before pushing on to remote repository\\ngit pull origin main\\n')\n",
    "    "
   ]
  },
  {
   "cell_type": "code",
   "execution_count": 12,
   "metadata": {},
   "outputs": [
    {
     "name": "stdout",
     "output_type": "stream",
     "text": [
      "generating new ssh key for windows\n",
      "ssh-keygen -t rsa -C username@email\n",
      "\n",
      "add -u when pushing first time to remote repository\n",
      "git push -u origin main\n",
      "\n",
      "best practice before pushing on to remote repository\n",
      "git pull origin main\n",
      "\n"
     ]
    }
   ],
   "source": [
    "with open('git.txt', mode='r') as file:\n",
    "    print(file.read())"
   ]
  },
  {
   "cell_type": "code",
   "execution_count": 27,
   "metadata": {},
   "outputs": [
    {
     "name": "stdout",
     "output_type": "stream",
     "text": [
      " new ssh key for windows\n",
      "ssh-keygen -t rsa -C username@email\n",
      "\n",
      "add -u when pushing first time to remote repository\n",
      "git push -u origin main\n",
      "\n",
      "best practice before pushing on to remote repository\n",
      "git pull origin main\n",
      "adding new line\n"
     ]
    }
   ],
   "source": [
    "file = open('git.txt', mode='w+')\n",
    "file.write('generating new ssh key for windows\\nssh-keygen -t rsa -C username@email\\n\\nadd -u when pushing first time to remote repository\\ngit push -u origin main\\n\\nbest practice before pushing on to remote repository\\ngit pull origin main\\nadding new line')\n",
    "file.seek(10)\n",
    "print(file.read())\n",
    "file.close()\n"
   ]
  },
  {
   "cell_type": "code",
   "execution_count": 24,
   "metadata": {},
   "outputs": [
    {
     "name": "stdout",
     "output_type": "stream",
     "text": [
      "generating new ssh key for windows\n",
      "ssh-keygen -t rsa -C username@email\n",
      "\n",
      "add -u when pushing first time to remote repository\n",
      "git push -u origin main\n",
      "\n",
      "best practice before pushing on to remote repository\n",
      "git pull origin main\n",
      "adding new line\n"
     ]
    },
    {
     "data": {
      "text/plain": [
       "''"
      ]
     },
     "execution_count": 24,
     "metadata": {},
     "output_type": "execute_result"
    }
   ],
   "source": [
    "file = open('git.txt',mode='r')\n",
    "print(file.read())\n",
    "file.seek(0)"
   ]
  },
  {
   "cell_type": "code",
   "execution_count": 28,
   "metadata": {},
   "outputs": [],
   "source": [
    "file.close()\n"
   ]
  },
  {
   "cell_type": "code",
   "execution_count": 31,
   "metadata": {},
   "outputs": [
    {
     "name": "stdout",
     "output_type": "stream",
     "text": [
      "ow\n"
     ]
    }
   ],
   "source": [
    "a=False\n",
    "if (a==True):\n",
    "    print('Wow')\n",
    "else:\n",
    "    print('ow')   "
   ]
  },
  {
   "cell_type": "code",
   "execution_count": null,
   "metadata": {},
   "outputs": [],
   "source": []
  }
 ],
 "metadata": {
  "kernelspec": {
   "display_name": "Python 3",
   "language": "python",
   "name": "python3"
  },
  "language_info": {
   "codemirror_mode": {
    "name": "ipython",
    "version": 3
   },
   "file_extension": ".py",
   "mimetype": "text/x-python",
   "name": "python",
   "nbconvert_exporter": "python",
   "pygments_lexer": "ipython3",
   "version": "3.8.5"
  }
 },
 "nbformat": 4,
 "nbformat_minor": 4
}
